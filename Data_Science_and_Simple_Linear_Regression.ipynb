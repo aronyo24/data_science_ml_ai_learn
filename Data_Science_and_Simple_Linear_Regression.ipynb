{
  "nbformat": 4,
  "nbformat_minor": 0,
  "metadata": {
    "colab": {
      "private_outputs": true,
      "provenance": [],
      "authorship_tag": "ABX9TyM7z7+fuv9zEOqGYC87bAjr",
      "include_colab_link": true
    },
    "kernelspec": {
      "name": "python3",
      "display_name": "Python 3"
    },
    "language_info": {
      "name": "python"
    }
  },
  "cells": [
    {
      "cell_type": "markdown",
      "metadata": {
        "id": "view-in-github",
        "colab_type": "text"
      },
      "source": [
        "<a href=\"https://colab.research.google.com/github/aronyo24/data_science_ml_ai_learn/blob/main/Data_Science_and_Simple_Linear_Regression.ipynb\" target=\"_parent\"><img src=\"https://colab.research.google.com/assets/colab-badge.svg\" alt=\"Open In Colab\"/></a>"
      ]
    },
    {
      "cell_type": "markdown",
      "source": [
        "#Beginner-Friendly Introduction to Data Science and Simple Linear Regression"
      ],
      "metadata": {
        "id": "RsTDzXJArf8c"
      }
    },
    {
      "cell_type": "markdown",
      "source": [
        "# **1 .Understanding Data Science**\n",
        "\n",
        "\n",
        "Data Science is a way to get useful knowledge from data. Think of it like being a detective who looks at tons of information and finds the truth hidden inside.\n",
        "Data Science combines several disciplines:\n",
        "\n"
      ],
      "metadata": {
        "id": "Z3koNI7gr-jO"
      }
    },
    {
      "cell_type": "markdown",
      "source": [
        "\n",
        "\n",
        "Mathematics and Statistics – These are used to understand and identify pat- terns in the data.\n",
        "\n",
        "Computer Science and Programming – These help in writing code, collecting data, cleaning it, and automating tasks.\n",
        "\n",
        "Domain Knowledge – This means understanding the particular area or field in which data science is being applied, such as healthcare, finance, weather forecasting, business, etc."
      ],
      "metadata": {
        "id": "DJ8kgjDFtVJ5"
      }
    },
    {
      "cell_type": "markdown",
      "source": [
        "**1.1 What Does a Data Scientist Do**\n",
        "\n",
        "Collects and examines raw data, which is often incomplete and unorganized.\n",
        "* Cleans the data to make it suitable for analysis.\n",
        "* Analyzes the data to identify trends, correlations, and useful patterns.\n",
        "* Builds models that can make predictions based on the data.\n",
        "* Presents the results clearly to help people or organizations make better decisions.\n",
        "\n",
        "**1.2 Real-Life Applications of Data Science**\n",
        "\n",
        "\n",
        "* Entertainment: Netflix recommends movies based on your watching history using\n",
        "data science algorithms.\n",
        "* Banking: Banks use it to detect fraudulent transactions and ensure security.\n",
        "* Healthcare: Doctors predict diseases by analyzing patient records with the help\n",
        "of data science.\n",
        "\n",
        "In short, data science is a combination of logical thinking, coding, mathematics, and\n",
        "real-world application. It is used across various industries to solve problems and make\n",
        "informed decisions using data"
      ],
      "metadata": {
        "id": "lVwzPJJutou0"
      }
    },
    {
      "cell_type": "markdown",
      "source": [
        "# 2. Simple Linear Regression\n",
        "\n",
        "**2.1 Introduction to Linear Regression**\n",
        "\n",
        "Linear Regression is a method used to model the relationship between two continuous\n",
        "variables. It draws a straight line through a scatter plot of the data, which is used to\n",
        "predict the value of one variable based on the value of another.\n",
        "\n",
        "**Example:** Predicting exam marks (Y) based on hours studied (X).\n",
        "\n",
        "**Mathematical Formula**\n",
        "\n",
        "The equation of a simple linear regression model is:\n",
        "\n",
        "\\begin{equation}\n",
        "Y \\approx \\beta_0 + \\beta_1 X\n",
        "\\end{equation}\n",
        "Where:\n",
        "\n",
        "\n",
        "\n",
        "\n",
        "*   $Y$: the value we want to predict (e.g., marks)\n",
        "*   $X$: the input variable (e.g., hours of study)\n",
        "*  $\\beta_0$: the intercept (the starting value of Y when X is zero)\n",
        "\n",
        "*  $\\beta_1$: the slope (how much Y changes for a one-unit increase in X)\n"
      ],
      "metadata": {
        "id": "57dRfXdmulWd"
      }
    },
    {
      "cell_type": "code",
      "source": [
        "import numpy as np\n",
        "import pandas as pd\n",
        "import matplotlib.pyplot as plt\n",
        "\n",
        "data = {\n",
        "    \"Hours\": [1, 2, 3, 4, 5, 6, 7, 8],\n",
        "    \"Marks\": [35, 40, 50, 55, 60, 65, 70, 80]\n",
        "}\n",
        "df = pd.DataFrame(data)\n",
        "\n",
        "plt.scatter(df[\"Hours\"], df[\"Marks\"], color=\"blue\")\n",
        "plt.title(\"Study Hours vs Marks\")\n",
        "plt.xlabel(\"Hours Studied\")\n",
        "plt.ylabel(\"Marks\")\n",
        "plt.grid(True)\n",
        "plt.show()"
      ],
      "metadata": {
        "id": "dfZyYcvhvokr"
      },
      "execution_count": null,
      "outputs": []
    },
    {
      "cell_type": "markdown",
      "source": [
        "# 3. Training the Model – Finding the Line of Best Fit\n",
        "\n",
        "\n",
        "To make predictions using linear regression, we need to determine the most accurate values for the parameters $\\beta_0$ (intercept) and $\\beta_1$ (slope). We use the \\textbf{least squares method}, which calculates the line that minimizes the sum of the squared differences between the actual values and the predicted values.\n",
        "\n",
        "\n",
        "\n",
        "**3.1 Mathematical Formula for Least Squares**\n",
        "\n",
        "\\begin{equation}\n",
        "\\hat{\\beta}_1 = \\frac{\\sum (x_i - \\bar{x})(y_i - \\bar{y})}{\\sum (x_i - \\bar{x})^2}, \\quad \\hat{\\beta}_0 = \\bar{y} - \\hat{\\beta}_1 \\bar{x}\n",
        "\\end{equation}\n",
        "This equation computes the best values of $\\hat{\\beta}_0$ and $\\hat{\\beta}_1$ based on the sample data.\n",
        "\n"
      ],
      "metadata": {
        "id": "o6b81sPD8VOd"
      }
    },
    {
      "cell_type": "markdown",
      "source": [
        "**Python Code: Fitting the Linear Regression Model**"
      ],
      "metadata": {
        "id": "Edjm2LoJ9BT2"
      }
    },
    {
      "cell_type": "code",
      "source": [
        "from sklearn.linear_model import LinearRegression\n",
        "import pandas as pd\n",
        "\n",
        "# Create DataFrame\n",
        "data = {\n",
        "    \"Hours\": [1, 2, 3, 4, 5, 6, 7, 8],\n",
        "    \"Marks\": [35, 40, 50, 55, 60, 65, 70, 80]\n",
        "}\n",
        "df = pd.DataFrame(data)\n",
        "\n",
        "# Independent and Dependent variables\n",
        "X = df[[\"Hours\"]]  # X should be 2D\n",
        "y = df[\"Marks\"]    # y is 1D\n",
        "\n",
        "# Create and fit the model\n",
        "model = LinearRegression()\n",
        "model.fit(X, y)\n",
        "\n",
        "# Coefficients\n",
        "beta_0 = model.intercept_  # Intercept (β₀)\n",
        "beta_1 = model.coef_[0]    # Slope (β₁)\n",
        "\n",
        "# Print results\n",
        "print(f\"Intercept (|beta): {beta_0}\")\n",
        "print(f\"Slope (\\t): {beta_1}\")"
      ],
      "metadata": {
        "id": "eblz_gbT9LEg"
      },
      "execution_count": null,
      "outputs": []
    },
    {
      "cell_type": "markdown",
      "source": [
        "# 4. Making Predictions Using the Trained Model\n",
        "\n",
        "After training, we can use the model to predict the dependent variable ($Y$) for any given value of the independent variable ($X$) using the following equation:\n",
        "\n",
        "\\begin{equation}\n",
        "\\hat{y} = \\hat{\\beta}_0 + \\hat{\\beta}_1 x\n",
        "\\end{equation}\n",
        "\n",
        "**4.1 Python Code: Making a Prediction**\n"
      ],
      "metadata": {
        "id": "wuOhWG3a92jT"
      }
    },
    {
      "cell_type": "code",
      "source": [
        "from sklearn.linear_model import LinearRegression\n",
        "import pandas as pd\n",
        "\n",
        "# Step 1: Create the dataset\n",
        "data = {\n",
        "    \"Hours\": [1, 2, 3, 4, 5, 6, 7, 8],\n",
        "    \"Marks\": [35, 40, 50, 55, 60, 65, 70, 80]\n",
        "}\n",
        "df = pd.DataFrame(data)\n",
        "\n",
        "# Step 2: Separate the features and labels\n",
        "X = df[[\"Hours\"]]  # Must be 2D\n",
        "y = df[\"Marks\"]\n",
        "\n",
        "# Step 3: Create and train the model\n",
        "model = LinearRegression()\n",
        "model.fit(X, y)\n",
        "\n",
        "# Step 4: Predict marks for 9 hours of study\n",
        "predicted_marks = model.predict([[9]])\n",
        "print(f\"Predicted Marks for 9 hours of study: {predicted_marks[0]:.2f}\")\n"
      ],
      "metadata": {
        "id": "ZIEyzbnAAHfk"
      },
      "execution_count": null,
      "outputs": []
    },
    {
      "cell_type": "markdown",
      "source": [],
      "metadata": {
        "id": "TsPTkfpTB1f7"
      }
    }
  ]
}