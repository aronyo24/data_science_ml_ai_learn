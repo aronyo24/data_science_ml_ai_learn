{
  "nbformat": 4,
  "nbformat_minor": 0,
  "metadata": {
    "colab": {
      "private_outputs": true,
      "provenance": [],
      "authorship_tag": "ABX9TyOAd+TeSw2u+s4lbLTOF2Pi",
      "include_colab_link": true
    },
    "kernelspec": {
      "name": "python3",
      "display_name": "Python 3"
    },
    "language_info": {
      "name": "python"
    }
  },
  "cells": [
    {
      "cell_type": "markdown",
      "metadata": {
        "id": "view-in-github",
        "colab_type": "text"
      },
      "source": [
        "<a href=\"https://colab.research.google.com/github/aronyo24/data_science_ml_ai_learn/blob/main/Data_Science_and_Simple_Linear_Regression.ipynb\" target=\"_parent\"><img src=\"https://colab.research.google.com/assets/colab-badge.svg\" alt=\"Open In Colab\"/></a>"
      ]
    },
    {
      "cell_type": "markdown",
      "source": [
        "#Beginner-Friendly Introduction to Data Science and Simple Linear Regression"
      ],
      "metadata": {
        "id": "RsTDzXJArf8c"
      }
    },
    {
      "cell_type": "markdown",
      "source": [
        "# **Understanding Data Science**\n",
        "\n",
        "\n",
        "Data Science is a way to get useful knowledge from data. Think of it like being a detective who looks at tons of information and finds the truth hidden inside.\n",
        "Data Science combines several disciplines:\n",
        "\n"
      ],
      "metadata": {
        "id": "Z3koNI7gr-jO"
      }
    },
    {
      "cell_type": "markdown",
      "source": [
        "\n",
        "\n",
        "Mathematics and Statistics – These are used to understand and identify pat- terns in the data.\n",
        "\n",
        "Computer Science and Programming – These help in writing code, collecting data, cleaning it, and automating tasks.\n",
        "\n",
        "Domain Knowledge – This means understanding the particular area or field in which data science is being applied, such as healthcare, finance, weather forecasting, business, etc."
      ],
      "metadata": {
        "id": "DJ8kgjDFtVJ5"
      }
    },
    {
      "cell_type": "markdown",
      "source": [
        "What Does a Data Scientist Do\n",
        "\n",
        "Collects and examines raw data, which is often incomplete and unorganized.\n",
        "* Cleans the data to make it suitable for analysis.\n",
        "* Analyzes the data to identify trends, correlations, and useful patterns.\n",
        "* Builds models that can make predictions based on the data.\n",
        "* Presents the results clearly to help people or organizations make better decisions.\n",
        "\n",
        "**Real-Life Applications of Data Science**\n",
        "\n",
        "\n",
        "* Entertainment: Netflix recommends movies based on your watching history using\n",
        "data science algorithms.\n",
        "* Banking: Banks use it to detect fraudulent transactions and ensure security.\n",
        "* Healthcare: Doctors predict diseases by analyzing patient records with the help\n",
        "of data science.\n",
        "\n",
        "In short, data science is a combination of logical thinking, coding, mathematics, and\n",
        "real-world application. It is used across various industries to solve problems and make\n",
        "informed decisions using data"
      ],
      "metadata": {
        "id": "lVwzPJJutou0"
      }
    },
    {
      "cell_type": "markdown",
      "source": [
        "# 2. Simple Linear Regression\n",
        "\n",
        "**2.1 Introduction to Linear Regression**\n",
        "\n",
        "Linear Regression is a method used to model the relationship between two continuous\n",
        "variables. It draws a straight line through a scatter plot of the data, which is used to\n",
        "predict the value of one variable based on the value of another.\n",
        "\n",
        "**Example:** Predicting exam marks (Y) based on hours studied (X).\n",
        "\n",
        "**Mathematical Formula**\n",
        "\n",
        "The equation of a simple linear regression model is:\n",
        "\n",
        "\\begin{equation}\n",
        "Y \\approx \\beta_0 + \\beta_1 X\n",
        "\\end{equation}\n",
        "Where:\n",
        "\n",
        "\n",
        "\n",
        "\n",
        "*   $Y$: the value we want to predict (e.g., marks)\n",
        "*   $X$: the input variable (e.g., hours of study)\n",
        "*  $\\beta_0$: the intercept (the starting value of Y when X is zero)\n",
        "\n",
        "*  $\\beta_1$: the slope (how much Y changes for a one-unit increase in X)\n"
      ],
      "metadata": {
        "id": "57dRfXdmulWd"
      }
    },
    {
      "cell_type": "code",
      "source": [
        "import numpy as np\n",
        "import pandas as pd\n",
        "import matplotlib.pyplot as plt\n",
        "\n",
        "data = {\n",
        "    \"Hours\": [1, 2, 3, 4, 5, 6, 7, 8],\n",
        "    \"Marks\": [35, 40, 50, 55, 60, 65, 70, 80]\n",
        "}\n",
        "df = pd.DataFrame(data)\n",
        "\n",
        "plt.scatter(df[\"Hours\"], df[\"Marks\"], color=\"blue\")\n",
        "plt.title(\"Study Hours vs Marks\")\n",
        "plt.xlabel(\"Hours Studied\")\n",
        "plt.ylabel(\"Marks\")\n",
        "plt.grid(True)\n",
        "plt.show()"
      ],
      "metadata": {
        "id": "dfZyYcvhvokr"
      },
      "execution_count": null,
      "outputs": []
    }
  ]
}